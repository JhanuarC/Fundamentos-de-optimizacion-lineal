{
  "nbformat": 4,
  "nbformat_minor": 0,
  "metadata": {
    "colab": {
      "provenance": [],
      "toc_visible": true,
      "include_colab_link": true
    },
    "kernelspec": {
      "name": "python3",
      "display_name": "Python 3"
    },
    "language_info": {
      "name": "python"
    }
  },
  "cells": [
    {
      "cell_type": "markdown",
      "metadata": {
        "id": "view-in-github",
        "colab_type": "text"
      },
      "source": [
        "<a href=\"https://colab.research.google.com/github/JhanuarC/Fundamentos-de-optimizacion-lineal/blob/main/Taller_08_Optimizacion_archivos_grandes.ipynb\" target=\"_parent\"><img src=\"https://colab.research.google.com/assets/colab-badge.svg\" alt=\"Open In Colab\"/></a>"
      ]
    },
    {
      "cell_type": "markdown",
      "source": [
        "## «*En todas las épocas hay personas que no piensan como los demás. Es decir, que no piensan como los que no piensan*».\n",
        "### [Marguerite Yourcenar](https://es.wikipedia.org/wiki/Marguerite_Yourcenar)"
      ],
      "metadata": {
        "id": "ArWJsV9JkRCh"
      }
    },
    {
      "metadata": {
        "id": "zgjocYYq8zTI"
      },
      "cell_type": "markdown",
      "source": [
        "# Taller 08 Optimización a partir de información contenida en archivos\n",
        "\n",
        "En este taller aprenderá a resolver ejercicios de optimización a partir de información contenida en archivos.\n",
        "\n",
        "Se utilizará el archivo [saber11_20162.csv](https://raw.githubusercontent.com/gabrielawad/Fundamentos-de-optimizacion-lineal/refs/heads/main/datos/saber11_20162.csv), de dimensión 12.212 filas x 20 columnas, que contiene la información relativa a los resultados obtenidos por los estudiantes que presentaron las pruebas Saber 11 en el período 2016-2, agrupados por instituciones."
      ]
    },
    {
      "metadata": {
        "id": "iF2LyZeFHHLy"
      },
      "cell_type": "markdown",
      "source": [
        "# Problema a resolver\n",
        "\n",
        "El gobierno nacional desea invertir dos mil millones de pesos en instituciones de educación media oficiales, con jornada en la mañana, de las ciudades de Cali, Bogotá, Bucaramanga y Medellín.\n",
        "\n",
        "Por razones de equidad regional en cada una de dichas ciudades se apoyará al menos tres y máximo ocho instituciones educativas, asignando a cada una un auxilio adicional de 100 millones de pesos.\n",
        "\n",
        "El objetivo del gobierno es maximizar la cobertura (número de estudiantes beneficiados con la inversión).\n",
        "\n",
        "Resuelva el problema a partir de la información que se encuentra en el archivo [saber11_20162.csv](https://github.com/gabrielawad/Fundamentos-de-optimizacion-lineal/tree/main/datos).\n",
        "\n",
        "Indique el total de estudiantes y de instituciones beneficiados tanto a nivel global como en cada una de las ciudades. Además, muestre el listado de instituciones beneficiadas junto con su ubicación y su número de estudiantes."
      ]
    },
    {
      "metadata": {
        "id": "ziAADyLztPE3"
      },
      "cell_type": "markdown",
      "source": [
        "## Paso 0: importar las librerías requeridas"
      ]
    },
    {
      "metadata": {
        "id": "FGtS11Ybs4at"
      },
      "cell_type": "code",
      "source": [
        "# Importar las librerías requeridas\n",
        "import numpy as np\n",
        "import pandas as pd\n",
        "import cvxpy as cvx"
      ],
      "execution_count": null,
      "outputs": []
    },
    {
      "metadata": {
        "id": "317ASycIHZdr"
      },
      "cell_type": "markdown",
      "source": [
        "## Paso 1: obtener datos\n",
        "\n",
        "Leer los datos del archivo y verificar que hayan sido adecuadamente guardados en un objeto de pandas.\n",
        "\n",
        "Los datos para este ejercicio se encuentran en un [repositorio de GitHub](https://github.com/gabrielawad/Fundamentos-de-optimizacion-lineal/tree/main/datos). Hay que visitar el repositorio, ubicar el archivo, abrirlo y copiar la url que aparece en la opción «**raw**»."
      ]
    },
    {
      "cell_type": "code",
      "source": [
        "# Establecer la rua de los datos\n",
        "ruta_datos = \"https://raw.githubusercontent.com/gabrielawad/Fundamentos-de-optimizacion-lineal\\\n",
        "/refs/heads/main/datos/saber11_20162.csv\"\n",
        "\n",
        "# Leer los datos\n",
        "datosSaber11 = pd.read_csv(ruta_datos, sep=';', decimal=',')\n",
        "\n",
        "# Las siguientes instrucciones permiten verificar que el archivo fue\n",
        "#adecuadamente leído y que los datos se encuentran disponibles\n",
        "print (\"Los tipos de datos contenidos en las columnas de datosSaber11 son:\\n\",\n",
        "       datosSaber11.dtypes, \"\\n\")\n",
        "print (\"Los índices de las filas de datosSaber11 son:\\n\", datosSaber11.index,\n",
        "       \"\\n\")\n",
        "print (\"Los índices de las columnas de datosSaber11 son:\\n\",\n",
        "       datosSaber11.columns, \"\\n\")\n",
        "print (\"Los estadísticos de las variables numéricas de datosSaber11 son:\\n\",\n",
        "       datosSaber11.describe(), \"\\n\")"
      ],
      "metadata": {
        "id": "n5wr4s8Cvy3q"
      },
      "execution_count": null,
      "outputs": []
    },
    {
      "metadata": {
        "id": "ZSCxBdzLJwgA"
      },
      "cell_type": "markdown",
      "source": [
        "## Paso 2:  depurar datos\n",
        "\n",
        "Seleccionar los datos que se requieren para resolver el ejercicio.\n",
        "\n",
        "Al terminar este paso, el archivo tendrá 541 filas y 11 columnas. Cinco de las columnas serán construidas y agregadas en este paso."
      ]
    },
    {
      "metadata": {
        "id": "EQfT43iIHKkV",
        "outputId": "5584bca0-0270-4c28-a471-b68c13940b1b",
        "colab": {
          "base_uri": "https://localhost:8080/"
        }
      },
      "cell_type": "code",
      "source": [
        "# Seleccionar los colegios oficiales\n",
        "datosSaber11_v1 = datosSaber11[datosSaber11.NATURALEZA == 'OFICIAL']\n",
        "\n",
        "# Seleccionar los colegios oficiales con jornada únicamente en la mañana\n",
        "# observe que al subir el contenido del archivo a Google Colaboratory \"MAÑANA\"\n",
        "# se convirtió en \"MANANA\"\n",
        "datosSaber11_v2 =datosSaber11_v1[datosSaber11_v1.JORNADA == 'MANANA']\n",
        "#nuevo_df =df_original[df_original.COLUMNA == \"Valor\"]\n",
        "\n",
        "# Seleccionar las columnas requeridas para resolver el ejercicio\n",
        "datosSaber11_v3 = datosSaber11_v2.loc[:,['NOMBREINSTITUCION', 'CODIGOMUNICIPIO',\n",
        "'NOMBREMUNICIPIO', 'NATURALEZA', 'JORNADA', 'EVALUADOS']]\n",
        "\n",
        "# Convertir el código del municipio en una string\n",
        "datosSaber11_v3['CODIGOMUNICIPIO'] = datosSaber11_v3['CODIGOMUNICIPIO']\\\n",
        ".astype(str)\n",
        "\n",
        "# Lista de nuevas columnas a agregar\n",
        "nuevas_columnas = list({\"Medellín\": \"5001\", \"Bogotá\": \"11001\", \"Cali\": \"76001\",\n",
        "                        \"Bucaramanga\": \"68001\", \"Activos\": \"0\"}.keys())\n",
        "\n",
        "# Agregar las nuevas columnas con valor 0 usando reindex\n",
        "datosSaber11_v3 = datosSaber11_v3.reindex(columns=datosSaber11_v3.columns.tolist()\n",
        "+ nuevas_columnas, fill_value=0)\n",
        "\n",
        "\n",
        "# Modificar el contenido de las nuevas columnas según el municipio\n",
        "# al que pertenezcan\n",
        "datosSaber11_v3.loc[datosSaber11_v2.CODIGOMUNICIPIO == 5001,'Medellín'] = 1.0\n",
        "datosSaber11_v3.loc[datosSaber11_v2.CODIGOMUNICIPIO == 76001,'Cali'] = 1.0\n",
        "datosSaber11_v3.loc[datosSaber11_v2.CODIGOMUNICIPIO == 68001,'Bucaramanga'] = 1.0\n",
        "datosSaber11_v3.loc[datosSaber11_v2.CODIGOMUNICIPIO == 11001,'Bogotá'] = 1.0\n",
        "print(datosSaber11_v3)\n",
        "\n",
        "\n",
        "# Identificar los municipios que interesan para resolver el problema\n",
        "datosSaber11_v3['Activos'] = (\n",
        "    datosSaber11_v3['Medellín'] +\n",
        "    datosSaber11_v3['Cali'] +\n",
        "    datosSaber11_v3['Bucaramanga'] +\n",
        "    datosSaber11_v3['Bogotá'])\n",
        "\n",
        "# Dejar en el objeto únicamente los datos de los municipios de interés\n",
        "datosSaber11_v4 = datosSaber11_v3[datosSaber11_v3.Activos == 1]\n",
        "\n",
        "# Las siguientes instrucciones permiten verificar cómo quedó el archivo\n",
        "# transformado\n",
        "\n",
        "\n",
        "print (\"Los tipos de datos contenidos en las columnas de datosSaber11_v4 son:\\n\",\n",
        "       datosSaber11_v4.dtypes, \"\\n\")\n",
        "print (\"Los índices de las filas de datosSaber11_v4 son:\\n\",\n",
        "       datosSaber11_v4.index, \"\\n\")\n",
        "print (\"Los índices de las columnas de datosSaber11_v4 son:\\n\",\n",
        "       datosSaber11_v4.columns, \"\\n\")\n",
        "print (\"Los estadísticos de las variables numéricas de datosSaber11_v4 son:\\n\",\n",
        "       datosSaber11_v4.describe(), \"\\n\")\n",
        "\n",
        "print(datosSaber11_v4)\n"
      ],
      "execution_count": 11,
      "outputs": [
        {
          "output_type": "stream",
          "name": "stdout",
          "text": [
            "                            NOMBREINSTITUCION CODIGOMUNICIPIO  \\\n",
            "0                              INST EDUC CEFA            5001   \n",
            "1          INST EDUC SANTOS ANGELES CUSTODIOS            5001   \n",
            "35                  INST EDUC FEDERICO OZANAM            5001   \n",
            "36       INST EDUC SAMUEL BARRIENTOS RESTREPO            5001   \n",
            "38      INST EDUC INEM JOSE FELIX DE RESTREPO            5001   \n",
            "...                                       ...             ...   \n",
            "12155    INST EDUC EL PLAYON - SEDE PRINCIPAL            5001   \n",
            "12156  I.E. LAGOS DEL DORADO - SEDE PRINCIPAL           95200   \n",
            "12157              SEDE A- AGUADA DE CEFERINO           68307   \n",
            "12158             CENT EDUC DIST LA CONCORDIA           11001   \n",
            "12160                 CEN. EDU. ALTO SICARARE           20013   \n",
            "\n",
            "       NOMBREMUNICIPIO NATURALEZA JORNADA  EVALUADOS  Medellín  Bogotá  Cali  \\\n",
            "0             MEDELLIN    OFICIAL  MANANA        968         1       0     0   \n",
            "1             MEDELLIN    OFICIAL  MANANA         49         1       0     0   \n",
            "35            MEDELLIN    OFICIAL  MANANA        156         1       0     0   \n",
            "36            MEDELLIN    OFICIAL  MANANA        107         1       0     0   \n",
            "38            MEDELLIN    OFICIAL  MANANA        778         1       0     0   \n",
            "...                ...        ...     ...        ...       ...     ...   ...   \n",
            "12155         MEDELLIN    OFICIAL  MANANA         44         1       0     0   \n",
            "12156       MIRAFLORES    OFICIAL  MANANA          5         0       0     0   \n",
            "12157            GIRON    OFICIAL  MANANA          8         0       0     0   \n",
            "12158      BOGOT� D.C.    OFICIAL  MANANA         22         0       1     0   \n",
            "12160  AGUSTIN CODAZZI    OFICIAL  MANANA          8         0       0     0   \n",
            "\n",
            "       Bucaramanga  Activos  \n",
            "0                0        0  \n",
            "1                0        0  \n",
            "35               0        0  \n",
            "36               0        0  \n",
            "38               0        0  \n",
            "...            ...      ...  \n",
            "12155            0        0  \n",
            "12156            0        0  \n",
            "12157            0        0  \n",
            "12158            0        0  \n",
            "12160            0        0  \n",
            "\n",
            "[4630 rows x 11 columns]\n",
            "Los tipos de datos contenidos en las columnas de datosSaber11_v4 son:\n",
            " NOMBREINSTITUCION    object\n",
            "CODIGOMUNICIPIO      object\n",
            "NOMBREMUNICIPIO      object\n",
            "NATURALEZA           object\n",
            "JORNADA              object\n",
            "EVALUADOS             int64\n",
            "Medellín              int64\n",
            "Bogotá                int64\n",
            "Cali                  int64\n",
            "Bucaramanga           int64\n",
            "Activos               int64\n",
            "dtype: object \n",
            "\n",
            "Los índices de las filas de datosSaber11_v4 son:\n",
            " Index([    0,     1,    35,    36,    38,    44,    45,    46,    48,    49,\n",
            "       ...\n",
            "       12101, 12102, 12119, 12131, 12137, 12138, 12149, 12151, 12155, 12158],\n",
            "      dtype='int64', length=541) \n",
            "\n",
            "Los índices de las columnas de datosSaber11_v4 son:\n",
            " Index(['NOMBREINSTITUCION', 'CODIGOMUNICIPIO', 'NOMBREMUNICIPIO', 'NATURALEZA',\n",
            "       'JORNADA', 'EVALUADOS', 'Medellín', 'Bogotá', 'Cali', 'Bucaramanga',\n",
            "       'Activos'],\n",
            "      dtype='object') \n",
            "\n",
            "Los estadísticos de las variables numéricas de datosSaber11_v4 son:\n",
            "         EVALUADOS    Medellín      Bogotá        Cali  Bucaramanga  Activos\n",
            "count  541.000000  541.000000  541.000000  541.000000   541.000000    541.0\n",
            "mean    84.889094    0.245841    0.537893    0.147874     0.068392      1.0\n",
            "std     71.681928    0.430983    0.499023    0.355304     0.252651      0.0\n",
            "min      6.000000    0.000000    0.000000    0.000000     0.000000      1.0\n",
            "25%     47.000000    0.000000    0.000000    0.000000     0.000000      1.0\n",
            "50%     71.000000    0.000000    1.000000    0.000000     0.000000      1.0\n",
            "75%    103.000000    0.000000    1.000000    0.000000     0.000000      1.0\n",
            "max    968.000000    1.000000    1.000000    1.000000     1.000000      1.0 \n",
            "\n",
            "                            NOMBREINSTITUCION CODIGOMUNICIPIO NOMBREMUNICIPIO  \\\n",
            "0                              INST EDUC CEFA            5001        MEDELLIN   \n",
            "1          INST EDUC SANTOS ANGELES CUSTODIOS            5001        MEDELLIN   \n",
            "35                  INST EDUC FEDERICO OZANAM            5001        MEDELLIN   \n",
            "36       INST EDUC SAMUEL BARRIENTOS RESTREPO            5001        MEDELLIN   \n",
            "38      INST EDUC INEM JOSE FELIX DE RESTREPO            5001        MEDELLIN   \n",
            "...                                       ...             ...             ...   \n",
            "12138  INST EDUC SAN NICOLAS - SEDE PRINCIPAL            5001        MEDELLIN   \n",
            "12149    INST EDUC ALTAVISTA - SEDE PRINCIPAL            5001        MEDELLIN   \n",
            "12151   INST EDUC LA PASTORA - SEDE PRINCIPAL            5001        MEDELLIN   \n",
            "12155    INST EDUC EL PLAYON - SEDE PRINCIPAL            5001        MEDELLIN   \n",
            "12158             CENT EDUC DIST LA CONCORDIA           11001     BOGOT� D.C.   \n",
            "\n",
            "      NATURALEZA JORNADA  EVALUADOS  Medellín  Bogotá  Cali  Bucaramanga  \\\n",
            "0        OFICIAL  MANANA        968         1       0     0            0   \n",
            "1        OFICIAL  MANANA         49         1       0     0            0   \n",
            "35       OFICIAL  MANANA        156         1       0     0            0   \n",
            "36       OFICIAL  MANANA        107         1       0     0            0   \n",
            "38       OFICIAL  MANANA        778         1       0     0            0   \n",
            "...          ...     ...        ...       ...     ...   ...          ...   \n",
            "12138    OFICIAL  MANANA         18         1       0     0            0   \n",
            "12149    OFICIAL  MANANA         18         1       0     0            0   \n",
            "12151    OFICIAL  MANANA         36         1       0     0            0   \n",
            "12155    OFICIAL  MANANA         44         1       0     0            0   \n",
            "12158    OFICIAL  MANANA         22         0       1     0            0   \n",
            "\n",
            "       Activos  \n",
            "0            1  \n",
            "1            1  \n",
            "35           1  \n",
            "36           1  \n",
            "38           1  \n",
            "...        ...  \n",
            "12138        1  \n",
            "12149        1  \n",
            "12151        1  \n",
            "12155        1  \n",
            "12158        1  \n",
            "\n",
            "[541 rows x 11 columns]\n"
          ]
        }
      ]
    },
    {
      "metadata": {
        "id": "DP65WR-V8zTX"
      },
      "cell_type": "markdown",
      "source": [
        "Después de las transformaciones realizadas, la información contenida en las columnas del objeto de Pandas (DataFrame) 'datosSaber11_v4' es:\n",
        "\n",
        "\n",
        "Columna\n",
        "* 0: 'NOMBREINSTITUCION'\n",
        "* 1: 'CODIGOMUNICIPIO'\n",
        "* 2: 'NOMBREMUNICIPIO'\n",
        "* 3: 'NATURALEZA'\n",
        "* 4: 'JORNADA'\n",
        "* 5: 'EVALUADOS'\n",
        "* 6: 'Cali'\n",
        "* 7: 'Bucaramanga'\n",
        "* 8: 'Bogotá'\n",
        "* 9: 'Medellín'\n",
        "* 10: 'Activos'"
      ]
    },
    {
      "metadata": {
        "id": "In7CCKtPQ3P2"
      },
      "cell_type": "markdown",
      "source": [
        "## Paso 3: convertir los objetos de pandas en objetos de NumPy\n",
        "\n",
        "En este paso se crean objetos de NumPy, a partir de objetos de pandas, para ser utilizados luego en CVXPY-"
      ]
    },
    {
      "metadata": {
        "id": "gJdmS02e8zTI"
      },
      "cell_type": "code",
      "source": [
        "# Coeficiente de costos: estudiantes\n",
        "estudiantes = np.array(datosSaber11_v4[ 'EVALUADOS'])\n",
        "print (\"El total de estudiantes es: \", int(np.sum(estudiantes)), \"\\n\")\n",
        "\n",
        "# Coeficientes tecnológicos: instituciones por ciudad\n",
        "cali = np.array(datosSaber11_v4['Cali'])\n",
        "bogota = np.array(datosSaber11_v4['Bogotá'])\n",
        "bucaramanga = np.array(datosSaber11_v4['Bucaramanga'])\n",
        "medellin = np.array(datosSaber11_v4['Medellín'])\n",
        "\n",
        "# Verificar que los objetos de NumPy quedaron adecuadamente creados\n",
        "TotCal=np.sum(cali)\n",
        "print (\"El total de establecimientos de Cali es: \", TotCal, \"\\n\")\n",
        "\n",
        "TotBog = np.sum(bogota)\n",
        "print (\"El total de establecimientos de Bogotá es: \", TotBog, \"\\n\")\n",
        "\n",
        "TotBuc=np.sum(bucaramanga)\n",
        "print (\"El total de establecimientos de Bucaramanga es: \", TotBuc, \"\\n\")\n",
        "\n",
        "TotMed=np.sum(medellin)\n",
        "print (\"El total de establecimientos de Medellín es: \", TotMed, \"\\n\")\n",
        "\n",
        "Total = TotCal + TotBog + TotBuc + TotMed\n",
        "print (\"El total de establecimientos es: \", Total, \"\\n\")"
      ],
      "execution_count": null,
      "outputs": []
    },
    {
      "metadata": {
        "id": "egclfxjUSwdZ"
      },
      "cell_type": "markdown",
      "source": [
        "## Paso 4: resolver el ejercicio utilizando CVXPY"
      ]
    },
    {
      "metadata": {
        "id": "KTLpBE0hqSu1"
      },
      "cell_type": "code",
      "source": [
        "# Crear las variables a optimizar. Cada posición corresponde a un colegio\n",
        "colegios = cvx.Variable((541), boolean =True)\n",
        "\n",
        "# Definir el arreglo de coeficientes de costos (alumnos) e ingresar sus valores\n",
        "alumnos = cvx.Parameter((541))\n",
        "\n",
        "# Asignar al arreglo alumnos los estudiantes de cada colegio\n",
        "# estudiantes se creó en la línea 2 del paso 3\n",
        "alumnos = estudiantes\n",
        "\n",
        "# Definir la función objetivo utilizando sum y multiply\n",
        "obj_saber = cvx.Maximize(cvx.sum(cvx.multiply(alumnos, colegios)))\n",
        "\n",
        "# Establecer las restricciones\n",
        "restricciones_saber = [\n",
        "    # Restricciones de recursos disponibles\n",
        "    cvx.sum(cvx.multiply(100, colegios)) <= 2000,\n",
        "\n",
        "    # Máximo Cali\n",
        "    cvx.sum(cvx.multiply(cali, colegios)) <= 8,\n",
        "\n",
        "    # Mínimo Cali\n",
        "    cvx.sum(cvx.multiply(cali, colegios)) >= 3,\n",
        "\n",
        "    # Máximo Bogotá\n",
        "    cvx.sum(cvx.multiply(bogota, colegios)) <= 8,\n",
        "\n",
        "    # Mínimo Bogotá\n",
        "    cvx.sum(cvx.multiply(bogota, colegios)) >= 3,\n",
        "\n",
        "    # Máximo Bucaramanga\n",
        "    cvx.sum(cvx.multiply(bucaramanga, colegios)) <= 8,\n",
        "\n",
        "    # Mínimo Bucaramanga\n",
        "    cvx.sum(cvx.multiply(bucaramanga, colegios)) >= 3,\n",
        "\n",
        "    # Máximo Medellín\n",
        "    cvx.sum(cvx.multiply(medellin, colegios)) <= 8,\n",
        "\n",
        "    # Mínimo Medellín\n",
        "    cvx.sum(cvx.multiply(medellin, colegios)) >= 3,\n",
        "]\n",
        "\n",
        "# Configurar el problema\n",
        "prob_saber = cvx.Problem(obj_saber, restricciones_saber)\n",
        "\n",
        "# Resolver el ejercicio\n",
        "prob_saber.solve()\n",
        "\n",
        "# Mostrar el estado de la solución y el valor óptimo de la función objetivo\n",
        "print(\"Estado de la solución:\", prob_saber.status,\"\\n\")"
      ],
      "execution_count": null,
      "outputs": []
    },
    {
      "metadata": {
        "id": "gDcwb2ibfrli"
      },
      "cell_type": "markdown",
      "source": [
        "## Paso 5: Imprimir las respuestas"
      ]
    },
    {
      "metadata": {
        "id": "-k1gaxOp8zTX"
      },
      "cell_type": "code",
      "source": [
        "# Crear listas para facilitar la impresión de las respuestas\n",
        "ciudades = [\"Cali\", \"Bogotá\", \"Bucaramanga\", \"Medellín\"]\n",
        "inst = [cali, bogota, bucaramanga, medellin]\n",
        "\n",
        "# Copiar los valores óptimos de las variables de decisión en un arreglo de NumPy\n",
        "defcolegios = np.round(colegios.value)\n",
        "\n",
        "# Obtener el valor óptimo\n",
        "print(\"La cantidad de estudiantes beneficiados será:\", \"%.0f\"% prob_saber.value)\n",
        "print(\"La cantidad de instituciones beneficiadas será:\", \"%.0f\"% sum(defcolegios), \"\\n\")\n",
        "\n",
        "# Imprimir las instituciones beneficiadas por ciudad\n",
        "for i in range(4):\n",
        "    print(\"La cantidad de estudiantes beneficiados en\", ciudades[i],\n",
        "          \"será:\", \"%.0f\"% sum(alumnos*inst[i]*defcolegios), \"\\n\")\n",
        "    print(\"la cantidad de instituciones beneficiadas en\", ciudades[i],\n",
        "          \"será:\", \"%.0f\"% sum(inst[i]*defcolegios), \"\\n\")\n",
        "\n",
        "# Modificar el índice del objeto de pandas 'datosSaber11_v4' para que coincida\n",
        "# con el índice del objeto de NumPy 'defcolegios'\n",
        "datosSaber11_v4.index = range(len(alumnos))\n",
        "\n",
        "# Imprimir los colegios, su ubicación y el número de estudiantes\n",
        "# beneficiado por institución\n",
        "for i in range (len(alumnos)):\n",
        "    if defcolegios[i]==1:\n",
        "        print (datosSaber11_v4.at[i, 'NOMBREINSTITUCION'], \"de \",\n",
        "               datosSaber11_v4.at[i, 'NOMBREMUNICIPIO'], \"con\",\n",
        "               int(datosSaber11_v4.at[i, 'EVALUADOS']) ,\"estudiantes\")"
      ],
      "execution_count": null,
      "outputs": []
    },
    {
      "cell_type": "markdown",
      "source": [
        "# Ejercicios"
      ],
      "metadata": {
        "id": "OAMu564F0KkP"
      }
    },
    {
      "cell_type": "markdown",
      "source": [
        "## Costa caribe\n",
        "\n",
        "Resuelva el mismo ejercicio planteado en el taller considerando como población objetivo los estudiantes de Guajira, Magdalena, Cesar, Atlántico, Bolívar, Sucre y Córdoba. Suponga una inversión de tres mil millones."
      ],
      "metadata": {
        "id": "MDhRxUZI0NVu"
      }
    },
    {
      "cell_type": "code",
      "source": [
        "# Resuelva aquí el ejercicio anterior\n",
        "# Resuelva aquí el ejercicio anterior\n",
        "# Importar las librerías requeridas\n",
        "import numpy as np\n",
        "import pandas as pd\n",
        "import cvxpy as cvx\n",
        "\n",
        "ruta_datos = \"https://raw.githubusercontent.com/gabrielawad/Fundamentos-de-optimizacion-lineal\\\n",
        "/refs/heads/main/datos/saber11_20162.csv\"\n",
        "\n",
        "datosSaber11 = pd.read_csv(ruta_datos, sep=';', decimal=',')\n",
        "\n",
        "datosSaber11_filtered= datosSaber11[(datosSaber11[\"NATURALEZA\"] == 'OFICIAL')\n",
        "& (datosSaber11[\"JORNADA\"] == \"MANANA\")]\n",
        "\n",
        "datosSaber11_filtered = datosSaber11_filtered.loc[:,['NOMBREINSTITUCION', 'DEPARTAMENTO'\n",
        ",'NATURALEZA', 'JORNADA', 'EVALUADOS']]\n",
        "\n",
        "nuevas_columnas = list({\"Guajira\" , \"Magdalena\", \"Atlántico\",\n",
        "                        \"Bolívar\", \"Sucre\", \"Córdoba\", \"Activos\"})\n",
        "\n",
        "datosSaber11_filtered = datosSaber11_filtered.reindex(columns=datosSaber11_filtered.columns.tolist()\n",
        "+ nuevas_columnas, fill_value=0)\n",
        "\n",
        "#datosSaber11_filtered['DEPARTAMENTO'] = datosSaber11_filtered['DEPARTAMENTO']\\\n",
        "#.astype(str)\n",
        "\n",
        "\n",
        "datosSaber11_filtered.loc[datosSaber11_filtered.DEPARTAMENTO == 'GUAJIRA', \"Guajira\" ] = 1.0\n",
        "datosSaber11_filtered.loc[datosSaber11_filtered.DEPARTAMENTO == \"MAGDALENA\",\"Magdalena\"] = 1.0\n",
        "datosSaber11_filtered.loc[datosSaber11_filtered.DEPARTAMENTO == \"ATLANTICO\",\"Atlántico\"] = 1.0\n",
        "datosSaber11_filtered.loc[datosSaber11_filtered.DEPARTAMENTO == \"BOLIVAR\",\"Bolívar\"] = 1.0\n",
        "datosSaber11_filtered.loc[datosSaber11_filtered.DEPARTAMENTO == \"SUCRE\",\"Sucre\"] = 1.0\n",
        "datosSaber11_filtered.loc[datosSaber11_filtered.DEPARTAMENTO == \"CORDOBA\",\"Córdoba\"] = 1.0\n",
        "\n",
        "\n",
        "print(datosSaber11_filtered)"
      ],
      "metadata": {
        "id": "rC9OvFxA0Uwc",
        "outputId": "64e8ef68-43e8-4341-e990-250f2be6b4de",
        "colab": {
          "base_uri": "https://localhost:8080/"
        }
      },
      "execution_count": 20,
      "outputs": [
        {
          "output_type": "stream",
          "name": "stdout",
          "text": [
            "                            NOMBREINSTITUCION DEPARTAMENTO NATURALEZA JORNADA  \\\n",
            "0                              INST EDUC CEFA    ANTIOQUIA    OFICIAL  MANANA   \n",
            "1          INST EDUC SANTOS ANGELES CUSTODIOS    ANTIOQUIA    OFICIAL  MANANA   \n",
            "35                  INST EDUC FEDERICO OZANAM    ANTIOQUIA    OFICIAL  MANANA   \n",
            "36       INST EDUC SAMUEL BARRIENTOS RESTREPO    ANTIOQUIA    OFICIAL  MANANA   \n",
            "38      INST EDUC INEM JOSE FELIX DE RESTREPO    ANTIOQUIA    OFICIAL  MANANA   \n",
            "...                                       ...          ...        ...     ...   \n",
            "12155    INST EDUC EL PLAYON - SEDE PRINCIPAL    ANTIOQUIA    OFICIAL  MANANA   \n",
            "12156  I.E. LAGOS DEL DORADO - SEDE PRINCIPAL     GUAVIARE    OFICIAL  MANANA   \n",
            "12157              SEDE A- AGUADA DE CEFERINO    SANTANDER    OFICIAL  MANANA   \n",
            "12158             CENT EDUC DIST LA CONCORDIA       BOGOTA    OFICIAL  MANANA   \n",
            "12160                 CEN. EDU. ALTO SICARARE        CESAR    OFICIAL  MANANA   \n",
            "\n",
            "       EVALUADOS  Activos  Sucre  Bolívar  Guajira  Córdoba  Magdalena  \\\n",
            "0            968        0      0        0        0        0          0   \n",
            "1             49        0      0        0        0        0          0   \n",
            "35           156        0      0        0        0        0          0   \n",
            "36           107        0      0        0        0        0          0   \n",
            "38           778        0      0        0        0        0          0   \n",
            "...          ...      ...    ...      ...      ...      ...        ...   \n",
            "12155         44        0      0        0        0        0          0   \n",
            "12156          5        0      0        0        0        0          0   \n",
            "12157          8        0      0        0        0        0          0   \n",
            "12158         22        0      0        0        0        0          0   \n",
            "12160          8        0      0        0        0        0          0   \n",
            "\n",
            "       Atlántico  \n",
            "0              0  \n",
            "1              0  \n",
            "35             0  \n",
            "36             0  \n",
            "38             0  \n",
            "...          ...  \n",
            "12155          0  \n",
            "12156          0  \n",
            "12157          0  \n",
            "12158          0  \n",
            "12160          0  \n",
            "\n",
            "[4630 rows x 12 columns]\n"
          ]
        }
      ]
    },
    {
      "cell_type": "markdown",
      "source": [
        "## Estímulo a los mejores\n",
        "\n",
        "Resuelva el mismo ejercicio planteado en el taller considerando como población objetivo los colegios públicos con jornada de la mañana, de las ciudades de Cali, Bogotá, Bucaramanga y Medellín cuyo resultado en la prueba de Lectura Crítica es superior al promedio nacional."
      ],
      "metadata": {
        "id": "5HYFBhfJ0VdI"
      }
    },
    {
      "cell_type": "code",
      "source": [
        "# Resuelva aquí el ejercicio anterior\n"
      ],
      "metadata": {
        "id": "azY-nqH40dtX"
      },
      "execution_count": null,
      "outputs": []
    }
  ]
}